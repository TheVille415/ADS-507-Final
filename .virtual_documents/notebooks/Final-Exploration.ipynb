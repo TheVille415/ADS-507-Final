


import pandas as pd  # For handling datasets
import numpy as np   # For numerical operations
import matplotlib.pyplot as plt  # For visualization
import seaborn as sns  # For better visualizations



# Load Emergency Department Visit Data
er_data = pd.read_csv("encounters-by-facility_2012-2023_20240702.csv")

# Load Low-Income Community Data
income_data = pd.read_csv("Low-Income_or_Disadvantaged_Communities_Designated_by_California.csv")

# Display the first few rows of each dataset
er_data.head(), income_data.head()



# Check structure of the Emergency Department Visit Data
print("Emergency Data Info:")
print(er_data.info())

# Check structure of the Low-Income Community Data
print("\nLow-Income Community Data Info:")
print(income_data.info())



print("Missing Values in Emergency Data:")
print(er_data.isnull().sum())

print("\nMissing Values in Income Data:")
print(income_data.isnull().sum())



# Summary statistics for Emergency Department Data
print("Emergency Data Summary:")
print(er_data.describe())

# Summary statistics for Low-Income Data
print("\nIncome Data Summary:")
print(income_data.describe())



# Check unique values for some key categorical columns
print("Unique Facilities in ER Data:", er_data["facility_name"].nunique())
print("Unique Counties in ER Data:", er_data["county_name"].nunique())  # Using county_name instead of ZIP Code

# Display unique values for important categorical columns
print("\nUnique Service Levels in ER Data:", er_data["er_service_level_desc"].unique()[:10])  # Show first 10 unique values



# Check for duplicates
print("Duplicate rows in Emergency Data:", er_data.duplicated().sum())
print("Duplicate rows in Income Data:", income_data.duplicated().sum())

# Remove duplicates if needed
er_data = er_data.drop_duplicates()
income_data = income_data.drop_duplicates()



# Check common columns
print("ER Data Columns:", er_data.columns)
print("Income Data Columns:", income_data.columns)

# Merge datasets on county_name (ER) and County (Income)
merged_data = er_data.merge(income_data, left_on="county_name", right_on="County", how="left")

# Preview merged dataset
merged_data.head()






# Count missing values in key columns after merging
missing_counties = merged_data[merged_data["MHI_2019_5YR"].isna()]["county_name"].unique()
print("Counties in ER data that did not match in Income data:", missing_counties)



# Get county names from both datasets
print("Counties in ER Data:", er_data["county_name"].unique())
print("\nCounties in Income Data:", income_data["County"].unique())



# Standardize county names (strip spaces and convert to uppercase)
er_data["county_name"] = er_data["county_name"].str.strip().str.upper()
income_data["County"] = income_data["County"].str.strip().str.upper()



# Merge datasets after cleaning county names
merged_data = er_data.merge(income_data, left_on="county_name", right_on="County", how="left")

# Check missing values again
print("Missing values after cleaning:", merged_data["MHI_2019_5YR"].isna().sum())



# Check counties that are still missing after the fix
missing_counties = merged_data[merged_data["MHI_2019_5YR"].isna()]["county_name"].unique()
print("Counties still missing after cleaning:", missing_counties)












# Group by Income Group and count ER visits
income_grouped = merged_data.groupby("Income_Group")["count"].sum()

# Plot the results
plt.figure(figsize=(8, 5))
sns.barplot(x=income_grouped.index, y=income_grouped.values, palette="Blues")
plt.xlabel("Income Group")
plt.ylabel("Total ER Visits")
plt.title("ER Visits by Income Level (County-Based)")
plt.xticks(rotation=45)
plt.show()



# Group by Income Group and sum ER visits
income_grouped = merged_data.groupby("Income_Group", as_index=False)["count"].sum()

# Plot with Seaborn
plt.figure(figsize=(8, 5))
sns.barplot(x="Income_Group", y="count", data=income_grouped, palette="Blues")

plt.xlabel("Income Group")
plt.ylabel("Total ER Visits")
plt.title("ER Visits by Income Level (County-Based)")
plt.xticks(rotation=45)
plt.show()



# Find top 10 counties with highest ER visits
top_counties = merged_data.groupby("county_name")["count"].sum().nlargest(10)

# Plot the results
plt.figure(figsize=(10, 5))
sns.barplot(x=top_counties.index, y=top_counties.values, palette="Reds")
plt.xlabel("County")
plt.ylabel("Total ER Visits")
plt.title("Top 10 Counties with Most ER Visits")
plt.xticks(rotation=45)
plt.show()
















