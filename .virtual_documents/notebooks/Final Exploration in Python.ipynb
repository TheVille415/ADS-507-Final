


import mysql.connector
import pandas as pd

# Connect to MySQL
conn = mysql.connector.connect(
    host="localhost",    # Change if needed
    user="root",         # Your MySQL username
    password="Jordant23!",  # Your MySQL password
    database="final_507" # Your database name
)

cursor = conn.cursor()

# Test connection
cursor.execute("SHOW TABLES;")
for table in cursor:
    print(table)

# Close the connection (for now)
cursor.close()
conn.close()






# Connect to MySQL
conn = mysql.connector.connect(
    host="localhost",    # Change if needed
    user="root",         # Your MySQL username
    password="Jordant23!",  # Your MySQL password
    database="final_507" # Your database name
)

cursor = conn.cursor()

# Test connection
cursor.execute("SHOW TABLES;")
for table in cursor:
    print(table)

# Query the cleaned table
query = "SELECT * FROM er_income_summary;"
df = pd.read_sql(query, conn)

# Close connection
conn.close()

# Preview Data
df.head()






df.info()  # Check data types and missing values
df.describe()  # Summary statistics



df.isnull().sum()






import matplotlib.pyplot as plt

plt.figure(figsize=(12, 6))
df.groupby("county_name")["total_visits"].sum().sort_values().plot(kind="bar")
plt.title("Total ER Visits by County")
plt.xlabel("County")
plt.ylabel("ER Visits")
plt.xticks(rotation=90)
plt.show()






# Exclude Los Angeles
df_excl_la = df[df['county_name'] != 'LOS ANGELES']

# Plot
plt.figure(figsize=(12, 6))
df_excl_la.groupby("county_name")["total_visits"].sum().sort_values().plot(kind="bar", color='skyblue')
plt.title("Total ER Visits by County (Excluding Los Angeles)")
plt.xlabel("County")
plt.ylabel("ER Visits")
plt.xticks(rotation=90)
plt.show()






import seaborn as sns

plt.figure(figsize=(8, 6))
sns.scatterplot(data=df, x="median_income", y="total_visits")
plt.title("ER Visits vs. Median Income")
plt.xlabel("Median Income ($)")
plt.ylabel("Total ER Visits")
plt.show()






# Plot with increased figure size
plt.figure(figsize=(14, 8))  # Increase width and height
sns.scatterplot(data=df, x="median_income", y="total_visits", hue="county_name", palette="viridis", s=150)

# Set log scale for y-axis
plt.yscale('log')

# Improve title and labels
plt.title("ER Visits vs. Median Income (Log Scale)", fontsize=16)
plt.xlabel("Median Income ($)", fontsize=14)
plt.ylabel("Total ER Visits (Log Scale)", fontsize=14)

# Improve legend positioning and size
plt.legend(title='County', bbox_to_anchor=(1.02, 1), loc='upper left', fontsize=12)

# Adjust tick labels for better spacing
plt.xticks(fontsize=12, rotation=45)
plt.yticks(fontsize=12)

plt.show()






# Sort DataFrame by median income in ascending order
df_sorted = df.sort_values(by="median_income", ascending=True)

# Re-plot with sorted data
plt.figure(figsize=(10, 6))
sns.scatterplot(data=df_sorted, x="median_income", y="total_visits", hue="county_name", palette="viridis", s=100)
plt.yscale('log')  # Log scale for better visibility
plt.title("ER Visits vs. Median Income (Log Scale)", fontsize=14)
plt.xlabel("Median Income ($)", fontsize=12)
plt.ylabel("Total ER Visits (Log Scale)", fontsize=12)
plt.legend(title='County', bbox_to_anchor=(1.02, 1), loc='upper left', fontsize=10)
plt.xticks(fontsize=10, rotation=45)  # Rotate for readability
plt.yticks(fontsize=10)
plt.show()







