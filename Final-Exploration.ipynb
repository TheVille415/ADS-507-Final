{
 "cells": [
  {
   "cell_type": "markdown",
   "id": "97e23d83-8720-4e0d-9e77-64dd5840ab42",
   "metadata": {},
   "source": [
    "# ADS 507 Final Project"
   ]
  },
  {
   "cell_type": "code",
   "execution_count": 1,
   "id": "6a102686-66a7-491d-b0d9-4e158298b2a9",
   "metadata": {},
   "outputs": [],
   "source": [
    "import pandas as pd  # For handling datasets\n",
    "import numpy as np   # For numerical operations\n",
    "import matplotlib.pyplot as plt  # For visualization\n",
    "import seaborn as sns  # For better visualizations\n"
   ]
  },
  {
   "cell_type": "code",
   "execution_count": 3,
   "id": "3b992c3d-cb17-46b2-8728-837feb2fc306",
   "metadata": {},
   "outputs": [
    {
     "data": {
      "text/plain": [
       "(   year   oshpd_id     facility_name county_name er_service_level_desc  \\\n",
       " 0  2012  106010735  ALAMEDA HOSPITAL     ALAMEDA                 BASIC   \n",
       " 1  2012  106010735  ALAMEDA HOSPITAL     ALAMEDA                 BASIC   \n",
       " 2  2013  106010735  ALAMEDA HOSPITAL     ALAMEDA                 BASIC   \n",
       " 3  2013  106010735  ALAMEDA HOSPITAL     ALAMEDA                 BASIC   \n",
       " 4  2014  106010735  ALAMEDA HOSPITAL     ALAMEDA                 BASIC   \n",
       " \n",
       "        type    count  \n",
       " 0  ED_Admit   2595.0  \n",
       " 1  ED_Visit  13727.0  \n",
       " 2  ED_Admit   2579.0  \n",
       " 3  ED_Visit  13538.0  \n",
       " 4  ED_Admit   2214.0  ,\n",
       "    OBJECTID_1  STATEFP  COUNTYFP  TRACTCE       GEOID    NAME  \\\n",
       " 0           1        6        37   204920  6037204920  2049.2   \n",
       " 1           2        6        37   205110  6037205110  2051.1   \n",
       " 2           3        6        37   205120  6037205120  2051.2   \n",
       " 3           4        6        37   206010  6037206010  2060.1   \n",
       " 4           5        6        37   206050  6037206050  2060.5   \n",
       " \n",
       "                NAMELSAD  MTFCC FUNCSTAT    ALAND  ...  MHI_2019_5YR  \\\n",
       " 0  Census Tract 2049.20  G5020        S   909972  ...       $39,904   \n",
       " 1  Census Tract 2051.10  G5020        S   286960  ...       $47,219   \n",
       " 2  Census Tract 2051.20  G5020        S  1466130  ...       $26,844   \n",
       " 3  Census Tract 2060.10  G5020        S  1418138  ...       $42,063   \n",
       " 4  Census Tract 2060.50  G5020        S  1643426  ...       $23,380   \n",
       " \n",
       "    Avg_hshld_size  HCD_Low_2021  HCD_Moderate_2021  State_MHI_2019  \\\n",
       " 0             4.0       $94,600            $96,000         75235.0   \n",
       " 1             5.0      $102,200           $103,700         75235.0   \n",
       " 2             4.0       $94,600            $96,000         75235.0   \n",
       " 3             3.0       $85,150            $86,400         75235.0   \n",
       " 4             2.0       $75,700            $76,800         75235.0   \n",
       " \n",
       "    State_MHI_Percent  Income_Group  DAC_and_or_LIC   Shape__Area  \\\n",
       " 0             53.04%           Low             Yes  9.099752e+05   \n",
       " 1             62.76%           Low             Yes  2.869607e+05   \n",
       " 2             35.68%           Low             Yes  1.466128e+06   \n",
       " 3             55.91%           Low             Yes  1.438691e+06   \n",
       " 4             31.08%           Low             Yes  1.738033e+06   \n",
       " \n",
       "    Shape__Length  \n",
       " 0    3900.202222  \n",
       " 1    2813.128130  \n",
       " 2    6115.046898  \n",
       " 3    6421.129173  \n",
       " 4    7759.974984  \n",
       " \n",
       " [5 rows x 96 columns])"
      ]
     },
     "execution_count": 3,
     "metadata": {},
     "output_type": "execute_result"
    }
   ],
   "source": [
    "# Load Emergency Department Visit Data\n",
    "er_data = pd.read_csv(\"encounters-by-facility_2012-2023_20240702.csv\")\n",
    "\n",
    "# Load Low-Income Community Data\n",
    "income_data = pd.read_csv(\"Low-Income_or_Disadvantaged_Communities_Designated_by_California.csv\")\n",
    "\n",
    "# Display the first few rows of each dataset\n",
    "er_data.head(), income_data.head()\n"
   ]
  },
  {
   "cell_type": "code",
   "execution_count": 5,
   "id": "1bdc50bb-f675-407a-9bff-8b975af07737",
   "metadata": {},
   "outputs": [
    {
     "name": "stdout",
     "output_type": "stream",
     "text": [
      "Emergency Data Info:\n",
      "<class 'pandas.core.frame.DataFrame'>\n",
      "RangeIndex: 7846 entries, 0 to 7845\n",
      "Data columns (total 7 columns):\n",
      " #   Column                 Non-Null Count  Dtype  \n",
      "---  ------                 --------------  -----  \n",
      " 0   year                   7846 non-null   int64  \n",
      " 1   oshpd_id               7846 non-null   int64  \n",
      " 2   facility_name          7846 non-null   object \n",
      " 3   county_name            7846 non-null   object \n",
      " 4   er_service_level_desc  7680 non-null   object \n",
      " 5   type                   7846 non-null   object \n",
      " 6   count                  7748 non-null   float64\n",
      "dtypes: float64(1), int64(2), object(4)\n",
      "memory usage: 429.2+ KB\n",
      "None\n",
      "\n",
      "Low-Income Community Data Info:\n",
      "<class 'pandas.core.frame.DataFrame'>\n",
      "RangeIndex: 4738 entries, 0 to 4737\n",
      "Data columns (total 96 columns):\n",
      " #   Column              Non-Null Count  Dtype  \n",
      "---  ------              --------------  -----  \n",
      " 0   OBJECTID_1          4738 non-null   int64  \n",
      " 1   STATEFP             4738 non-null   int64  \n",
      " 2   COUNTYFP            4738 non-null   int64  \n",
      " 3   TRACTCE             4738 non-null   int64  \n",
      " 4   GEOID               4738 non-null   int64  \n",
      " 5   NAME                4738 non-null   float64\n",
      " 6   NAMELSAD            4738 non-null   object \n",
      " 7   MTFCC               4738 non-null   object \n",
      " 8   FUNCSTAT            4738 non-null   object \n",
      " 9   ALAND               4738 non-null   int64  \n",
      " 10  AWATER              4738 non-null   int64  \n",
      " 11  INTPTLAT            4738 non-null   float64\n",
      " 12  INTPTLON            4738 non-null   float64\n",
      " 13  Tract               4738 non-null   int64  \n",
      " 14  Tract_Area          4738 non-null   int64  \n",
      " 15  tract_t             4738 non-null   int64  \n",
      " 16  Lat                 4738 non-null   float64\n",
      " 17  Long                4738 non-null   float64\n",
      " 18  OBJECTID            2310 non-null   float64\n",
      " 19  Tract_1             2310 non-null   float64\n",
      " 20  ZIP                 2310 non-null   float64\n",
      " 21  Population          2310 non-null   float64\n",
      " 22  CIscore             2288 non-null   float64\n",
      " 23  CIscoreP            2288 non-null   float64\n",
      " 24  Ozone               2310 non-null   float64\n",
      " 25  Ozone_Pctl          2310 non-null   float64\n",
      " 26  PM2_5               2310 non-null   float64\n",
      " 27  PM2_5_Pctl          2310 non-null   float64\n",
      " 28  Diesel_PM           2310 non-null   float64\n",
      " 29  Diesel_PM_Pctl      2310 non-null   float64\n",
      " 30  Pesticides          2310 non-null   float64\n",
      " 31  Pesticides_Pctl     2310 non-null   float64\n",
      " 32  Tox_Releases        2310 non-null   float64\n",
      " 33  Tox_Releases_Pctl   2310 non-null   float64\n",
      " 34  Traffic             2309 non-null   float64\n",
      " 35  Traffic_Pctl        2309 non-null   float64\n",
      " 36  Drinking_Water      2299 non-null   float64\n",
      " 37  DrinkingWaterPctl   2299 non-null   float64\n",
      " 38  Lead                2287 non-null   float64\n",
      " 39  Lead_Pctl           2287 non-null   float64\n",
      " 40  Cleanups            2310 non-null   float64\n",
      " 41  Cleanups_Pctl       2310 non-null   float64\n",
      " 42  GroundwaterThreats  2310 non-null   float64\n",
      " 43  GW_Threats_Pctl     2310 non-null   float64\n",
      " 44  Haz_Waste           2310 non-null   float64\n",
      " 45  Haz_Waste_Pctl      2310 non-null   float64\n",
      " 46  Imp_Water_Bodies    2310 non-null   float64\n",
      " 47  ImpWaterBodPctl     2310 non-null   float64\n",
      " 48  Solid_Waste         2310 non-null   float64\n",
      " 49  Solid_Waste_Pctl    2310 non-null   float64\n",
      " 50  Pollution           2310 non-null   float64\n",
      " 51  PollutionScore      2310 non-null   float64\n",
      " 52  Pollution_Pctl      2310 non-null   float64\n",
      " 53  Asthma              2302 non-null   float64\n",
      " 54  Asthma_Pctl         2302 non-null   float64\n",
      " 55  Low_Birth_Weight    2279 non-null   float64\n",
      " 56  LowBirthW_Pctl      2279 non-null   float64\n",
      " 57  Cardiovascular      2302 non-null   float64\n",
      " 58  Cardiovasc_Pctl     2302 non-null   float64\n",
      " 59  Education           2290 non-null   float64\n",
      " 60  Education_Pctl      2290 non-null   float64\n",
      " 61  Ling_Isol           2244 non-null   float64\n",
      " 62  Ling_Isol_Pctl      2244 non-null   float64\n",
      " 63  Poverty             2292 non-null   float64\n",
      " 64  Poverty_Pctl        2292 non-null   float64\n",
      " 65  Unemployment        2249 non-null   float64\n",
      " 66  Unemploy_Pctl       2249 non-null   float64\n",
      " 67  HousBurd            2277 non-null   float64\n",
      " 68  HousBurd_Pctl       2277 non-null   float64\n",
      " 69  PopChar             2288 non-null   float64\n",
      " 70  PopCharScore        2288 non-null   float64\n",
      " 71  PopCharP            2288 non-null   float64\n",
      " 72  Child_10            2300 non-null   float64\n",
      " 73  Pop_10_64           2300 non-null   float64\n",
      " 74  Elderly_65          2300 non-null   float64\n",
      " 75  Hispanic            2300 non-null   float64\n",
      " 76  White               2300 non-null   float64\n",
      " 77  African_American    2300 non-null   float64\n",
      " 78  Native_American     2300 non-null   float64\n",
      " 79  Asian_American      2300 non-null   float64\n",
      " 80  Pacific_Islander    2300 non-null   float64\n",
      " 81  Other_Multiple      2300 non-null   float64\n",
      " 82  County              2310 non-null   object \n",
      " 83  ApproxLoc           2310 non-null   object \n",
      " 84  DAC_category        2310 non-null   object \n",
      " 85  OBJECTID_12         4514 non-null   float64\n",
      " 86  MHI_2019_5YR        4505 non-null   object \n",
      " 87  Avg_hshld_size      4514 non-null   float64\n",
      " 88  HCD_Low_2021        4514 non-null   object \n",
      " 89  HCD_Moderate_2021   4514 non-null   object \n",
      " 90  State_MHI_2019      4514 non-null   float64\n",
      " 91  State_MHI_Percent   4505 non-null   object \n",
      " 92  Income_Group        4514 non-null   object \n",
      " 93  DAC_and_or_LIC      4738 non-null   object \n",
      " 94  Shape__Area         4738 non-null   float64\n",
      " 95  Shape__Length       4738 non-null   float64\n",
      "dtypes: float64(74), int64(10), object(12)\n",
      "memory usage: 3.5+ MB\n",
      "None\n"
     ]
    }
   ],
   "source": [
    "# Check structure of the Emergency Department Visit Data\n",
    "print(\"Emergency Data Info:\")\n",
    "print(er_data.info())\n",
    "\n",
    "# Check structure of the Low-Income Community Data\n",
    "print(\"\\nLow-Income Community Data Info:\")\n",
    "print(income_data.info())\n"
   ]
  },
  {
   "cell_type": "code",
   "execution_count": 7,
   "id": "5e0da621-ce2a-489b-8d2f-65504a013c4f",
   "metadata": {},
   "outputs": [
    {
     "name": "stdout",
     "output_type": "stream",
     "text": [
      "Missing Values in Emergency Data:\n",
      "year                       0\n",
      "oshpd_id                   0\n",
      "facility_name              0\n",
      "county_name                0\n",
      "er_service_level_desc    166\n",
      "type                       0\n",
      "count                     98\n",
      "dtype: int64\n",
      "\n",
      "Missing Values in Income Data:\n",
      "OBJECTID_1             0\n",
      "STATEFP                0\n",
      "COUNTYFP               0\n",
      "TRACTCE                0\n",
      "GEOID                  0\n",
      "                    ... \n",
      "State_MHI_Percent    233\n",
      "Income_Group         224\n",
      "DAC_and_or_LIC         0\n",
      "Shape__Area            0\n",
      "Shape__Length          0\n",
      "Length: 96, dtype: int64\n"
     ]
    }
   ],
   "source": [
    "print(\"Missing Values in Emergency Data:\")\n",
    "print(er_data.isnull().sum())\n",
    "\n",
    "print(\"\\nMissing Values in Income Data:\")\n",
    "print(income_data.isnull().sum())\n"
   ]
  },
  {
   "cell_type": "code",
   "execution_count": 9,
   "id": "f163bc75-061e-4916-8bdc-ea62195f3eac",
   "metadata": {},
   "outputs": [
    {
     "name": "stdout",
     "output_type": "stream",
     "text": [
      "Emergency Data Summary:\n",
      "              year      oshpd_id          count\n",
      "count  7846.000000  7.846000e+03    7748.000000\n",
      "mean   2017.456029  1.062816e+08   21356.866804\n",
      "std       3.446954  1.370205e+05   23951.765042\n",
      "min    2012.000000  1.060107e+08       1.000000\n",
      "25%    2014.000000  1.061904e+08    4223.250000\n",
      "50%    2017.000000  1.063012e+08   10924.000000\n",
      "75%    2020.000000  1.063712e+08   32401.750000\n",
      "max    2023.000000  1.065810e+08  146799.000000\n",
      "\n",
      "Income Data Summary:\n",
      "        OBJECTID_1  STATEFP     COUNTYFP        TRACTCE         GEOID  \\\n",
      "count  4738.000000   4738.0  4738.000000    4738.000000  4.738000e+03   \n",
      "mean   2369.500000      6.0    52.830730  201049.846349  6.053032e+09   \n",
      "std    1367.887118      0.0    25.793992  234447.614128  2.570870e+07   \n",
      "min       1.000000      6.0     1.000000     100.000000  6.001401e+09   \n",
      "25%    1185.250000      6.0    37.000000    7603.250000  6.037222e+09   \n",
      "50%    2369.500000      6.0    41.000000   99225.500000  6.041128e+09   \n",
      "75%    3553.750000      6.0    73.000000  404902.750000  6.073005e+09   \n",
      "max    4738.000000      6.0   115.000000  988300.000000  6.115041e+09   \n",
      "\n",
      "              NAME         ALAND        AWATER     INTPTLAT     INTPTLON  ...  \\\n",
      "count  4738.000000  4.738000e+03  4.738000e+03  4738.000000  4738.000000  ...   \n",
      "mean   2010.498463  6.205011e+07  1.312074e+06    35.332879  -119.227836  ...   \n",
      "std    2344.476141  5.189419e+08  1.987606e+07     2.045660     1.917686  ...   \n",
      "min       1.000000  5.656400e+04  0.000000e+00    32.547376  -124.239650  ...   \n",
      "25%      76.032500  8.111465e+05  0.000000e+00    33.929288  -121.288701  ...   \n",
      "50%     992.255000  1.425970e+06  0.000000e+00    34.148815  -118.313357  ...   \n",
      "75%    4049.027500  3.046654e+06  1.723250e+03    37.370039  -117.950672  ...   \n",
      "max    9883.000000  1.800518e+10  1.098453e+09    41.946648  -114.306484  ...   \n",
      "\n",
      "       African_American  Native_American  Asian_American  Pacific_Islander  \\\n",
      "count       2300.000000      2300.000000     2300.000000       2300.000000   \n",
      "mean           8.499272         0.374236        9.473937          0.321474   \n",
      "std           11.356937         3.044685       11.889331          0.925841   \n",
      "min            0.000000         0.000000        0.000000          0.000000   \n",
      "25%            1.143100         0.000000        1.374800          0.000000   \n",
      "50%            4.419850         0.000000        5.405100          0.000000   \n",
      "75%           11.143550         0.296550       12.962375          0.157925   \n",
      "max           78.104700       100.000000       81.445800         10.060700   \n",
      "\n",
      "       Other_Multiple  OBJECTID_12  Avg_hshld_size  State_MHI_2019  \\\n",
      "count     2300.000000  4514.000000     4514.000000          4514.0   \n",
      "mean         1.991768  3828.524812        3.186088         75235.0   \n",
      "std          2.102741  2277.824252        0.814461             0.0   \n",
      "min          0.000000    12.000000        1.000000         75235.0   \n",
      "25%          0.436725  1903.250000        3.000000         75235.0   \n",
      "50%          1.416850  3528.000000        3.000000         75235.0   \n",
      "75%          2.789750  5822.750000        4.000000         75235.0   \n",
      "max         15.527100  8057.000000        6.000000         75235.0   \n",
      "\n",
      "        Shape__Area  Shape__Length  \n",
      "count  4.738000e+03    4738.000000  \n",
      "mean   6.336219e+07   16576.147390  \n",
      "std    5.234703e+08   44882.418347  \n",
      "min    5.656436e+04     962.581594  \n",
      "25%    8.177244e+05    4074.330187  \n",
      "50%    1.444020e+06    5588.464163  \n",
      "75%    3.163725e+06    8876.422805  \n",
      "max    1.801357e+10  850140.395820  \n",
      "\n",
      "[8 rows x 84 columns]\n"
     ]
    }
   ],
   "source": [
    "# Summary statistics for Emergency Department Data\n",
    "print(\"Emergency Data Summary:\")\n",
    "print(er_data.describe())\n",
    "\n",
    "# Summary statistics for Low-Income Data\n",
    "print(\"\\nIncome Data Summary:\")\n",
    "print(income_data.describe())\n"
   ]
  },
  {
   "cell_type": "code",
   "execution_count": 11,
   "id": "a7b99940-553b-470d-9fa9-e4977fee5297",
   "metadata": {},
   "outputs": [
    {
     "name": "stdout",
     "output_type": "stream",
     "text": [
      "Unique Facilities in ER Data: 428\n",
      "Unique Counties in ER Data: 55\n",
      "\n",
      "Unique Service Levels in ER Data: ['BASIC' nan 'STANDBY' 'COMPREHENSIVE']\n"
     ]
    }
   ],
   "source": [
    "# Check unique values for some key categorical columns\n",
    "print(\"Unique Facilities in ER Data:\", er_data[\"facility_name\"].nunique())\n",
    "print(\"Unique Counties in ER Data:\", er_data[\"county_name\"].nunique())  # Using county_name instead of ZIP Code\n",
    "\n",
    "# Display unique values for important categorical columns\n",
    "print(\"\\nUnique Service Levels in ER Data:\", er_data[\"er_service_level_desc\"].unique()[:10])  # Show first 10 unique values\n"
   ]
  },
  {
   "cell_type": "code",
   "execution_count": 13,
   "id": "a23ad3cd-1de7-4c99-9f49-47d3f62196de",
   "metadata": {},
   "outputs": [
    {
     "name": "stdout",
     "output_type": "stream",
     "text": [
      "Duplicate rows in Emergency Data: 0\n",
      "Duplicate rows in Income Data: 0\n"
     ]
    }
   ],
   "source": [
    "# Check for duplicates\n",
    "print(\"Duplicate rows in Emergency Data:\", er_data.duplicated().sum())\n",
    "print(\"Duplicate rows in Income Data:\", income_data.duplicated().sum())\n",
    "\n",
    "# Remove duplicates if needed\n",
    "er_data = er_data.drop_duplicates()\n",
    "income_data = income_data.drop_duplicates()\n"
   ]
  },
  {
   "cell_type": "code",
   "execution_count": 15,
   "id": "1418e159-6461-4b4b-aa46-9aaac44eeaa0",
   "metadata": {},
   "outputs": [
    {
     "name": "stdout",
     "output_type": "stream",
     "text": [
      "ER Data Columns: Index(['year', 'oshpd_id', 'facility_name', 'county_name',\n",
      "       'er_service_level_desc', 'type', 'count'],\n",
      "      dtype='object')\n",
      "Income Data Columns: Index(['OBJECTID_1', 'STATEFP', 'COUNTYFP', 'TRACTCE', 'GEOID', 'NAME',\n",
      "       'NAMELSAD', 'MTFCC', 'FUNCSTAT', 'ALAND', 'AWATER', 'INTPTLAT',\n",
      "       'INTPTLON', 'Tract', 'Tract_Area', 'tract_t', 'Lat', 'Long', 'OBJECTID',\n",
      "       'Tract_1', 'ZIP', 'Population', 'CIscore', 'CIscoreP', 'Ozone',\n",
      "       'Ozone_Pctl', 'PM2_5', 'PM2_5_Pctl', 'Diesel_PM', 'Diesel_PM_Pctl',\n",
      "       'Pesticides', 'Pesticides_Pctl', 'Tox_Releases', 'Tox_Releases_Pctl',\n",
      "       'Traffic', 'Traffic_Pctl', 'Drinking_Water', 'DrinkingWaterPctl',\n",
      "       'Lead', 'Lead_Pctl', 'Cleanups', 'Cleanups_Pctl', 'GroundwaterThreats',\n",
      "       'GW_Threats_Pctl', 'Haz_Waste', 'Haz_Waste_Pctl', 'Imp_Water_Bodies',\n",
      "       'ImpWaterBodPctl', 'Solid_Waste', 'Solid_Waste_Pctl', 'Pollution',\n",
      "       'PollutionScore', 'Pollution_Pctl', 'Asthma', 'Asthma_Pctl',\n",
      "       'Low_Birth_Weight', 'LowBirthW_Pctl', 'Cardiovascular',\n",
      "       'Cardiovasc_Pctl', 'Education', 'Education_Pctl', 'Ling_Isol',\n",
      "       'Ling_Isol_Pctl', 'Poverty', 'Poverty_Pctl', 'Unemployment',\n",
      "       'Unemploy_Pctl', 'HousBurd', 'HousBurd_Pctl', 'PopChar', 'PopCharScore',\n",
      "       'PopCharP', 'Child_10', 'Pop_10_64', 'Elderly_65', 'Hispanic', 'White',\n",
      "       'African_American', 'Native_American', 'Asian_American',\n",
      "       'Pacific_Islander', 'Other_Multiple', 'County', 'ApproxLoc',\n",
      "       'DAC_category', 'OBJECTID_12', 'MHI_2019_5YR', 'Avg_hshld_size',\n",
      "       'HCD_Low_2021', 'HCD_Moderate_2021', 'State_MHI_2019',\n",
      "       'State_MHI_Percent', 'Income_Group', 'DAC_and_or_LIC', 'Shape__Area',\n",
      "       'Shape__Length'],\n",
      "      dtype='object')\n"
     ]
    },
    {
     "data": {
      "text/html": [
       "<div>\n",
       "<style scoped>\n",
       "    .dataframe tbody tr th:only-of-type {\n",
       "        vertical-align: middle;\n",
       "    }\n",
       "\n",
       "    .dataframe tbody tr th {\n",
       "        vertical-align: top;\n",
       "    }\n",
       "\n",
       "    .dataframe thead th {\n",
       "        text-align: right;\n",
       "    }\n",
       "</style>\n",
       "<table border=\"1\" class=\"dataframe\">\n",
       "  <thead>\n",
       "    <tr style=\"text-align: right;\">\n",
       "      <th></th>\n",
       "      <th>year</th>\n",
       "      <th>oshpd_id</th>\n",
       "      <th>facility_name</th>\n",
       "      <th>county_name</th>\n",
       "      <th>er_service_level_desc</th>\n",
       "      <th>type</th>\n",
       "      <th>count</th>\n",
       "      <th>OBJECTID_1</th>\n",
       "      <th>STATEFP</th>\n",
       "      <th>COUNTYFP</th>\n",
       "      <th>...</th>\n",
       "      <th>MHI_2019_5YR</th>\n",
       "      <th>Avg_hshld_size</th>\n",
       "      <th>HCD_Low_2021</th>\n",
       "      <th>HCD_Moderate_2021</th>\n",
       "      <th>State_MHI_2019</th>\n",
       "      <th>State_MHI_Percent</th>\n",
       "      <th>Income_Group</th>\n",
       "      <th>DAC_and_or_LIC</th>\n",
       "      <th>Shape__Area</th>\n",
       "      <th>Shape__Length</th>\n",
       "    </tr>\n",
       "  </thead>\n",
       "  <tbody>\n",
       "    <tr>\n",
       "      <th>0</th>\n",
       "      <td>2012</td>\n",
       "      <td>106010735</td>\n",
       "      <td>ALAMEDA HOSPITAL</td>\n",
       "      <td>ALAMEDA</td>\n",
       "      <td>BASIC</td>\n",
       "      <td>ED_Admit</td>\n",
       "      <td>2595.0</td>\n",
       "      <td>NaN</td>\n",
       "      <td>NaN</td>\n",
       "      <td>NaN</td>\n",
       "      <td>...</td>\n",
       "      <td>NaN</td>\n",
       "      <td>NaN</td>\n",
       "      <td>NaN</td>\n",
       "      <td>NaN</td>\n",
       "      <td>NaN</td>\n",
       "      <td>NaN</td>\n",
       "      <td>NaN</td>\n",
       "      <td>NaN</td>\n",
       "      <td>NaN</td>\n",
       "      <td>NaN</td>\n",
       "    </tr>\n",
       "    <tr>\n",
       "      <th>1</th>\n",
       "      <td>2012</td>\n",
       "      <td>106010735</td>\n",
       "      <td>ALAMEDA HOSPITAL</td>\n",
       "      <td>ALAMEDA</td>\n",
       "      <td>BASIC</td>\n",
       "      <td>ED_Visit</td>\n",
       "      <td>13727.0</td>\n",
       "      <td>NaN</td>\n",
       "      <td>NaN</td>\n",
       "      <td>NaN</td>\n",
       "      <td>...</td>\n",
       "      <td>NaN</td>\n",
       "      <td>NaN</td>\n",
       "      <td>NaN</td>\n",
       "      <td>NaN</td>\n",
       "      <td>NaN</td>\n",
       "      <td>NaN</td>\n",
       "      <td>NaN</td>\n",
       "      <td>NaN</td>\n",
       "      <td>NaN</td>\n",
       "      <td>NaN</td>\n",
       "    </tr>\n",
       "    <tr>\n",
       "      <th>2</th>\n",
       "      <td>2013</td>\n",
       "      <td>106010735</td>\n",
       "      <td>ALAMEDA HOSPITAL</td>\n",
       "      <td>ALAMEDA</td>\n",
       "      <td>BASIC</td>\n",
       "      <td>ED_Admit</td>\n",
       "      <td>2579.0</td>\n",
       "      <td>NaN</td>\n",
       "      <td>NaN</td>\n",
       "      <td>NaN</td>\n",
       "      <td>...</td>\n",
       "      <td>NaN</td>\n",
       "      <td>NaN</td>\n",
       "      <td>NaN</td>\n",
       "      <td>NaN</td>\n",
       "      <td>NaN</td>\n",
       "      <td>NaN</td>\n",
       "      <td>NaN</td>\n",
       "      <td>NaN</td>\n",
       "      <td>NaN</td>\n",
       "      <td>NaN</td>\n",
       "    </tr>\n",
       "    <tr>\n",
       "      <th>3</th>\n",
       "      <td>2013</td>\n",
       "      <td>106010735</td>\n",
       "      <td>ALAMEDA HOSPITAL</td>\n",
       "      <td>ALAMEDA</td>\n",
       "      <td>BASIC</td>\n",
       "      <td>ED_Visit</td>\n",
       "      <td>13538.0</td>\n",
       "      <td>NaN</td>\n",
       "      <td>NaN</td>\n",
       "      <td>NaN</td>\n",
       "      <td>...</td>\n",
       "      <td>NaN</td>\n",
       "      <td>NaN</td>\n",
       "      <td>NaN</td>\n",
       "      <td>NaN</td>\n",
       "      <td>NaN</td>\n",
       "      <td>NaN</td>\n",
       "      <td>NaN</td>\n",
       "      <td>NaN</td>\n",
       "      <td>NaN</td>\n",
       "      <td>NaN</td>\n",
       "    </tr>\n",
       "    <tr>\n",
       "      <th>4</th>\n",
       "      <td>2014</td>\n",
       "      <td>106010735</td>\n",
       "      <td>ALAMEDA HOSPITAL</td>\n",
       "      <td>ALAMEDA</td>\n",
       "      <td>BASIC</td>\n",
       "      <td>ED_Admit</td>\n",
       "      <td>2214.0</td>\n",
       "      <td>NaN</td>\n",
       "      <td>NaN</td>\n",
       "      <td>NaN</td>\n",
       "      <td>...</td>\n",
       "      <td>NaN</td>\n",
       "      <td>NaN</td>\n",
       "      <td>NaN</td>\n",
       "      <td>NaN</td>\n",
       "      <td>NaN</td>\n",
       "      <td>NaN</td>\n",
       "      <td>NaN</td>\n",
       "      <td>NaN</td>\n",
       "      <td>NaN</td>\n",
       "      <td>NaN</td>\n",
       "    </tr>\n",
       "  </tbody>\n",
       "</table>\n",
       "<p>5 rows × 103 columns</p>\n",
       "</div>"
      ],
      "text/plain": [
       "   year   oshpd_id     facility_name county_name er_service_level_desc  \\\n",
       "0  2012  106010735  ALAMEDA HOSPITAL     ALAMEDA                 BASIC   \n",
       "1  2012  106010735  ALAMEDA HOSPITAL     ALAMEDA                 BASIC   \n",
       "2  2013  106010735  ALAMEDA HOSPITAL     ALAMEDA                 BASIC   \n",
       "3  2013  106010735  ALAMEDA HOSPITAL     ALAMEDA                 BASIC   \n",
       "4  2014  106010735  ALAMEDA HOSPITAL     ALAMEDA                 BASIC   \n",
       "\n",
       "       type    count  OBJECTID_1  STATEFP  COUNTYFP  ...  MHI_2019_5YR  \\\n",
       "0  ED_Admit   2595.0         NaN      NaN       NaN  ...           NaN   \n",
       "1  ED_Visit  13727.0         NaN      NaN       NaN  ...           NaN   \n",
       "2  ED_Admit   2579.0         NaN      NaN       NaN  ...           NaN   \n",
       "3  ED_Visit  13538.0         NaN      NaN       NaN  ...           NaN   \n",
       "4  ED_Admit   2214.0         NaN      NaN       NaN  ...           NaN   \n",
       "\n",
       "   Avg_hshld_size  HCD_Low_2021 HCD_Moderate_2021 State_MHI_2019  \\\n",
       "0             NaN           NaN               NaN            NaN   \n",
       "1             NaN           NaN               NaN            NaN   \n",
       "2             NaN           NaN               NaN            NaN   \n",
       "3             NaN           NaN               NaN            NaN   \n",
       "4             NaN           NaN               NaN            NaN   \n",
       "\n",
       "  State_MHI_Percent  Income_Group  DAC_and_or_LIC  Shape__Area  Shape__Length  \n",
       "0               NaN           NaN             NaN          NaN            NaN  \n",
       "1               NaN           NaN             NaN          NaN            NaN  \n",
       "2               NaN           NaN             NaN          NaN            NaN  \n",
       "3               NaN           NaN             NaN          NaN            NaN  \n",
       "4               NaN           NaN             NaN          NaN            NaN  \n",
       "\n",
       "[5 rows x 103 columns]"
      ]
     },
     "execution_count": 15,
     "metadata": {},
     "output_type": "execute_result"
    }
   ],
   "source": [
    "# Check common columns\n",
    "print(\"ER Data Columns:\", er_data.columns)\n",
    "print(\"Income Data Columns:\", income_data.columns)\n",
    "\n",
    "# Merge datasets on county_name (ER) and County (Income)\n",
    "merged_data = er_data.merge(income_data, left_on=\"county_name\", right_on=\"County\", how=\"left\")\n",
    "\n",
    "# Preview merged dataset\n",
    "merged_data.head()\n"
   ]
  },
  {
   "cell_type": "markdown",
   "id": "37ec0de2-706a-4277-ba5b-6dea7705f255",
   "metadata": {},
   "source": [
    "## After the data merge there seems to be a mis match since they both dont overlap on zipcode. I am going to work on finding how to make sure the merge is more successful to gain all the right data"
   ]
  },
  {
   "cell_type": "code",
   "execution_count": 17,
   "id": "4027dc95-4d48-43b7-b117-a9707d14b953",
   "metadata": {},
   "outputs": [
    {
     "name": "stdout",
     "output_type": "stream",
     "text": [
      "Counties in ER data that did not match in Income data: ['ALAMEDA' 'AMADOR' 'BUTTE' 'CALAVERAS' 'COLUSA' 'CONTRA COSTA'\n",
      " 'DEL NORTE' 'EL DORADO' 'FRESNO' 'GLENN' 'HUMBOLDT' 'IMPERIAL' 'INYO'\n",
      " 'KERN' 'KINGS' 'LAKE' 'LASSEN' 'LOS ANGELES' 'MADERA' 'MARIN' 'MARIPOSA'\n",
      " 'MENDOCINO' 'MERCED' 'MODOC' 'MONO' 'MONTEREY' 'NAPA' 'NEVADA' 'ORANGE'\n",
      " 'PLACER' 'PLUMAS' 'RIVERSIDE' 'SACRAMENTO' 'SAN BENITO' 'SAN BERNARDINO'\n",
      " 'SAN DIEGO' 'SAN FRANCISCO' 'SAN JOAQUIN' 'SAN LUIS OBISPO' 'SAN MATEO'\n",
      " 'SANTA BARBARA' 'SANTA CLARA' 'SANTA CRUZ' 'SHASTA' 'SISKIYOU' 'SOLANO'\n",
      " 'SONOMA' 'STANISLAUS' 'TEHAMA' 'TRINITY' 'TULARE' 'TUOLUMNE' 'VENTURA'\n",
      " 'YOLO' 'YUBA']\n"
     ]
    }
   ],
   "source": [
    "# Count missing values in key columns after merging\n",
    "missing_counties = merged_data[merged_data[\"MHI_2019_5YR\"].isna()][\"county_name\"].unique()\n",
    "print(\"Counties in ER data that did not match in Income data:\", missing_counties)\n"
   ]
  },
  {
   "cell_type": "code",
   "execution_count": 19,
   "id": "3c5e5214-8b78-4fe6-841d-233e9fb9abd6",
   "metadata": {},
   "outputs": [
    {
     "name": "stdout",
     "output_type": "stream",
     "text": [
      "Counties in ER Data: ['ALAMEDA' 'AMADOR' 'BUTTE' 'CALAVERAS' 'COLUSA' 'CONTRA COSTA'\n",
      " 'DEL NORTE' 'EL DORADO' 'FRESNO' 'GLENN' 'HUMBOLDT' 'IMPERIAL' 'INYO'\n",
      " 'KERN' 'KINGS' 'LAKE' 'LASSEN' 'LOS ANGELES' 'MADERA' 'MARIN' 'MARIPOSA'\n",
      " 'MENDOCINO' 'MERCED' 'MODOC' 'MONO' 'MONTEREY' 'NAPA' 'NEVADA' 'ORANGE'\n",
      " 'PLACER' 'PLUMAS' 'RIVERSIDE' 'SACRAMENTO' 'SAN BENITO' 'SAN BERNARDINO'\n",
      " 'SAN DIEGO' 'SAN FRANCISCO' 'SAN JOAQUIN' 'SAN LUIS OBISPO' 'SAN MATEO'\n",
      " 'SANTA BARBARA' 'SANTA CLARA' 'SANTA CRUZ' 'SHASTA' 'SISKIYOU' 'SOLANO'\n",
      " 'SONOMA' 'STANISLAUS' 'TEHAMA' 'TRINITY' 'TULARE' 'TUOLUMNE' 'VENTURA'\n",
      " 'YOLO' 'YUBA']\n",
      "\n",
      "Counties in Income Data: ['Los Angeles' 'San Joaquin' 'San Bernardino' 'Alameda ' 'Contra Costa'\n",
      " nan 'Orange ' 'Fresno ' 'Sonoma ' 'Butte ' 'Riverside ' 'Sacramento '\n",
      " 'Madera ' 'Ventura ' 'Kern ' 'Tulare ' 'San Francisco' 'Santa Clara'\n",
      " 'Merced ' 'Monterey ' 'Solano ' 'Imperial ' 'Sutter ' 'Stanislaus '\n",
      " 'San Diego' 'Yuba ' 'Yolo ' 'San Mateo' 'Santa Barbara' 'Santa Cruz'\n",
      " 'Glenn ' 'Kings ']\n"
     ]
    }
   ],
   "source": [
    "# Get county names from both datasets\n",
    "print(\"Counties in ER Data:\", er_data[\"county_name\"].unique())\n",
    "print(\"\\nCounties in Income Data:\", income_data[\"County\"].unique())\n"
   ]
  },
  {
   "cell_type": "code",
   "execution_count": 21,
   "id": "d61279e1-844d-473d-be8f-6f13b0ef214e",
   "metadata": {},
   "outputs": [],
   "source": [
    "# Standardize county names (strip spaces and convert to uppercase)\n",
    "er_data[\"county_name\"] = er_data[\"county_name\"].str.strip().str.upper()\n",
    "income_data[\"County\"] = income_data[\"County\"].str.strip().str.upper()\n"
   ]
  },
  {
   "cell_type": "code",
   "execution_count": 23,
   "id": "c1509f21-ba62-4653-bd74-979a4a458759",
   "metadata": {},
   "outputs": [
    {
     "name": "stdout",
     "output_type": "stream",
     "text": [
      "Missing values after cleaning: 136922\n"
     ]
    }
   ],
   "source": [
    "# Merge datasets after cleaning county names\n",
    "merged_data = er_data.merge(income_data, left_on=\"county_name\", right_on=\"County\", how=\"left\")\n",
    "\n",
    "# Check missing values again\n",
    "print(\"Missing values after cleaning:\", merged_data[\"MHI_2019_5YR\"].isna().sum())\n"
   ]
  },
  {
   "cell_type": "code",
   "execution_count": 25,
   "id": "22254cc4-4946-4ee1-8867-d3a837329582",
   "metadata": {},
   "outputs": [
    {
     "name": "stdout",
     "output_type": "stream",
     "text": [
      "Counties still missing after cleaning: ['ALAMEDA' 'AMADOR' 'CALAVERAS' 'COLUSA' 'DEL NORTE' 'EL DORADO' 'FRESNO'\n",
      " 'HUMBOLDT' 'IMPERIAL' 'INYO' 'KERN' 'KINGS' 'LAKE' 'LASSEN' 'LOS ANGELES'\n",
      " 'MADERA' 'MARIN' 'MARIPOSA' 'MENDOCINO' 'MERCED' 'MODOC' 'MONO' 'NAPA'\n",
      " 'NEVADA' 'ORANGE' 'PLACER' 'PLUMAS' 'RIVERSIDE' 'SACRAMENTO' 'SAN BENITO'\n",
      " 'SAN BERNARDINO' 'SAN DIEGO' 'SAN JOAQUIN' 'SAN LUIS OBISPO' 'SAN MATEO'\n",
      " 'SHASTA' 'SISKIYOU' 'SOLANO' 'STANISLAUS' 'TEHAMA' 'TRINITY' 'TULARE'\n",
      " 'TUOLUMNE' 'VENTURA']\n"
     ]
    }
   ],
   "source": [
    "# Check counties that are still missing after the fix\n",
    "missing_counties = merged_data[merged_data[\"MHI_2019_5YR\"].isna()][\"county_name\"].unique()\n",
    "print(\"Counties still missing after cleaning:\", missing_counties)\n"
   ]
  },
  {
   "cell_type": "markdown",
   "id": "fc4fe81d-6d84-4089-abc6-d3de99a4dedb",
   "metadata": {},
   "source": [
    "## There still seems to be something going on when trying to link the two datasets based on county name. I will work on this"
   ]
  },
  {
   "cell_type": "code",
   "execution_count": null,
   "id": "2427485e-b203-4565-8ddb-746032c8f76b",
   "metadata": {},
   "outputs": [],
   "source": []
  },
  {
   "cell_type": "code",
   "execution_count": null,
   "id": "298a52b1-e9eb-4516-929d-87ac5af29883",
   "metadata": {},
   "outputs": [],
   "source": []
  },
  {
   "cell_type": "code",
   "execution_count": 58,
   "id": "dcdf9904-a741-4dd0-83fe-89daf1082313",
   "metadata": {},
   "outputs": [
    {
     "name": "stderr",
     "output_type": "stream",
     "text": [
      "/var/folders/01/276kgpfd3vl01649sg75rmdr0000gn/T/ipykernel_9444/2313001075.py:6: FutureWarning: \n",
      "\n",
      "Passing `palette` without assigning `hue` is deprecated and will be removed in v0.14.0. Assign the `x` variable to `hue` and set `legend=False` for the same effect.\n",
      "\n",
      "  sns.barplot(x=income_grouped.index, y=income_grouped.values, palette=\"Blues\")\n"
     ]
    },
    {
     "data": {
      "image/png": "[encoded data removed]",
      "text/plain": [
       "<Figure size 800x500 with 1 Axes>"
      ]
     },
     "metadata": {},
     "output_type": "display_data"
    }
   ],
   "source": [
    "# Group by Income Group and count ER visits\n",
    "income_grouped = merged_data.groupby(\"Income_Group\")[\"count\"].sum()\n",
    "\n",
    "# Plot the results\n",
    "plt.figure(figsize=(8, 5))\n",
    "sns.barplot(x=income_grouped.index, y=income_grouped.values, palette=\"Blues\")\n",
    "plt.xlabel(\"Income Group\")\n",
    "plt.ylabel(\"Total ER Visits\")\n",
    "plt.title(\"ER Visits by Income Level (County-Based)\")\n",
    "plt.xticks(rotation=45)\n",
    "plt.show()\n"
   ]
  },
  {
   "cell_type": "code",
   "execution_count": 60,
   "id": "f0d4e807-c45e-4fa2-b75d-f1013424202a",
   "metadata": {},
   "outputs": [
    {
     "name": "stderr",
     "output_type": "stream",
     "text": [
      "/var/folders/01/276kgpfd3vl01649sg75rmdr0000gn/T/ipykernel_9444/834433348.py:6: FutureWarning: \n",
      "\n",
      "Passing `palette` without assigning `hue` is deprecated and will be removed in v0.14.0. Assign the `x` variable to `hue` and set `legend=False` for the same effect.\n",
      "\n",
      "  sns.barplot(x=top_counties.index, y=top_counties.values, palette=\"Reds\")\n"
     ]
    },
    {
     "data": {
      "image/png": "[encoded data removed]",
      "text/plain": [
       "<Figure size 1000x500 with 1 Axes>"
      ]
     },
     "metadata": {},
     "output_type": "display_data"
    }
   ],
   "source": [
    "# Find top 10 counties with highest ER visits\n",
    "top_counties = merged_data.groupby(\"county_name\")[\"count\"].sum().nlargest(10)\n",
    "\n",
    "# Plot the results\n",
    "plt.figure(figsize=(10, 5))\n",
    "sns.barplot(x=top_counties.index, y=top_counties.values, palette=\"Reds\")\n",
    "plt.xlabel(\"County\")\n",
    "plt.ylabel(\"Total ER Visits\")\n",
    "plt.title(\"Top 10 Counties with Most ER Visits\")\n",
    "plt.xticks(rotation=45)\n",
    "plt.show()\n"
   ]
  },
  {
   "cell_type": "code",
   "execution_count": null,
   "id": "3e485b07-ae0e-4682-9c9d-ef14ecf7aa27",
   "metadata": {},
   "outputs": [],
   "source": []
  }
 ],
 "metadata": {
  "kernelspec": {
   "display_name": "Python [conda env:base] *",
   "language": "python",
   "name": "conda-base-py"
  },
  "language_info": {
   "codemirror_mode": {
    "name": "ipython",
    "version": 3
   },
   "file_extension": ".py",
   "mimetype": "text/x-python",
   "name": "python",
   "nbconvert_exporter": "python",
   "pygments_lexer": "ipython3",
   "version": "3.12.2"
  }
 },
 "nbformat": 4,
 "nbformat_minor": 5
}
